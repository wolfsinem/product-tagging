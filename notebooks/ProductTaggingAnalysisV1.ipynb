{
 "cells": [
  {
   "cell_type": "markdown",
   "metadata": {},
   "source": [
    "## Product Tagging "
   ]
  },
  {
   "cell_type": "code",
   "execution_count": null,
   "metadata": {},
   "outputs": [],
   "source": [
    "import pandas as pd\n",
    "import seaborn as sns\n",
    "import numpy as np\n",
    "\n",
    "import matplotlib.pyplot as plt\n",
    "\n",
    "# https://moonbooks.org/Articles/How-to-sort-a-list-by-the-number-of-occurrences-in-python-/\n",
    "from collections import Counter"
   ]
  },
  {
   "cell_type": "code",
   "execution_count": null,
   "metadata": {},
   "outputs": [],
   "source": [
    "df = pd.read_csv(('/Users/wolfsinem/product-tagging/data/flipkart_com-ecommerce_sample.csv'))"
   ]
  },
  {
   "cell_type": "markdown",
   "metadata": {},
   "source": [
    "### All the columns in the dataset"
   ]
  },
  {
   "cell_type": "code",
   "execution_count": null,
   "metadata": {},
   "outputs": [],
   "source": [
    "df.columns"
   ]
  },
  {
   "cell_type": "markdown",
   "metadata": {},
   "source": [
    "---\n",
    "\n",
    "#### Since we only need the columns product_name, product_category_tree, description, brand and product_specifications, because these seem interesting, we will only select those for the new dataframe"
   ]
  },
  {
   "cell_type": "code",
   "execution_count": null,
   "metadata": {},
   "outputs": [],
   "source": [
    "new_df = df[['product_name','product_category_tree','description','brand','product_specifications']]"
   ]
  },
  {
   "cell_type": "code",
   "execution_count": null,
   "metadata": {},
   "outputs": [],
   "source": [
    "new_df"
   ]
  },
  {
   "cell_type": "markdown",
   "metadata": {},
   "source": [
    "### Select one description to test manually"
   ]
  },
  {
   "cell_type": "code",
   "execution_count": null,
   "metadata": {},
   "outputs": [],
   "source": [
    "test_string = new_df['description'][0]\n",
    "test_string"
   ]
  },
  {
   "cell_type": "code",
   "execution_count": null,
   "metadata": {},
   "outputs": [],
   "source": [
    "# https://stackoverflow.com/questions/2661778/tag-generation-from-a-text-content \n",
    "BAD_CHARS = \".!?,\\'\\\"\"\n",
    "words = [ word.strip(BAD_CHARS) for word in test_string.strip().split() if len(word) > 4 ]"
   ]
  },
  {
   "cell_type": "code",
   "execution_count": null,
   "metadata": {},
   "outputs": [],
   "source": [
    "words"
   ]
  },
  {
   "cell_type": "markdown",
   "metadata": {},
   "source": [
    "#### As you can see below, the word 'Shorts' occurs the most, following 'Solid' and 'Women's' \n",
    "You could make a new column named 'tags' and append these words to the new column"
   ]
  },
  {
   "cell_type": "code",
   "execution_count": null,
   "metadata": {},
   "outputs": [],
   "source": [
    "count_terms = Counter(words).most_common() # fill e.g. (3) for most common 3 terms\n",
    "count_terms"
   ]
  },
  {
   "cell_type": "markdown",
   "metadata": {},
   "source": [
    "### Trying other products"
   ]
  },
  {
   "cell_type": "code",
   "execution_count": null,
   "metadata": {},
   "outputs": [],
   "source": [
    "test_string_2 = new_df['description'][1]\n",
    "test_string_2"
   ]
  },
  {
   "cell_type": "code",
   "execution_count": null,
   "metadata": {},
   "outputs": [],
   "source": [
    "words_2 = [ word.strip(BAD_CHARS) for word in test_string_2.strip().split() if len(word) > 4 ]\n",
    "count_terms_2 = Counter(words_2).most_common()\n",
    "count_terms_2"
   ]
  },
  {
   "cell_type": "code",
   "execution_count": null,
   "metadata": {},
   "outputs": [],
   "source": [
    "test_string_3 = new_df['description'][2]\n",
    "test_string_3"
   ]
  },
  {
   "cell_type": "code",
   "execution_count": null,
   "metadata": {},
   "outputs": [],
   "source": [
    "words_3 = [ word.strip(BAD_CHARS) for word in test_string_3.strip().split() if len(word) > 4 ]\n",
    "count_terms_3 = Counter(words_3).most_common()\n",
    "count_terms_3"
   ]
  },
  {
   "cell_type": "code",
   "execution_count": null,
   "metadata": {},
   "outputs": [],
   "source": [
    "test_string_4 = new_df['description'][4]\n",
    "test_string_4"
   ]
  },
  {
   "cell_type": "code",
   "execution_count": null,
   "metadata": {},
   "outputs": [],
   "source": [
    "words_4 = [ word.strip(BAD_CHARS) for word in test_string_4.strip().split() if len(word) > 4 ]\n",
    "count_terms_4 = Counter(words_4).most_common()\n",
    "count_terms_4"
   ]
  },
  {
   "cell_type": "markdown",
   "metadata": {},
   "source": [
    "### Per term, count the number of product_descriptions, contain that word. This is the document frequency df(t). \n",
    "\n",
    "- search the word 'shorts' in any other description"
   ]
  },
  {
   "cell_type": "code",
   "execution_count": null,
   "metadata": {},
   "outputs": [],
   "source": [
    "list_with_strings = [test_string,test_string_2,test_string_3,test_string_4]"
   ]
  },
  {
   "cell_type": "code",
   "execution_count": null,
   "metadata": {},
   "outputs": [],
   "source": [
    "count_terms[0][0]"
   ]
  },
  {
   "cell_type": "code",
   "execution_count": null,
   "metadata": {},
   "outputs": [],
   "source": [
    "count_terms[0][1]"
   ]
  },
  {
   "cell_type": "code",
   "execution_count": null,
   "metadata": {},
   "outputs": [],
   "source": [
    "def contains_word(s, w):\n",
    "    return f' {w} ' in f' {s} '"
   ]
  },
  {
   "cell_type": "code",
   "execution_count": null,
   "metadata": {},
   "outputs": [],
   "source": [
    "for i in list_with_strings:\n",
    "    print(contains_word(i,count_terms[0][0])) # if boolean returns more than 1 true, it means the word occurs in other descriptions too"
   ]
  },
  {
   "cell_type": "markdown",
   "metadata": {},
   "source": [
    "### The TfidfVectorizer"
   ]
  },
  {
   "cell_type": "code",
   "execution_count": null,
   "metadata": {},
   "outputs": [],
   "source": [
    "from sklearn.feature_extraction.text import TfidfVectorizer\n",
    "from sklearn.feature_extraction.text import TfidfTransformer\n",
    "from sklearn.feature_extraction.text import CountVectorizer"
   ]
  },
  {
   "cell_type": "code",
   "execution_count": null,
   "metadata": {},
   "outputs": [],
   "source": [
    "docs = [\n",
    "     'This is the first document.',\n",
    "     'This document is the second document.',\n",
    "     'And this is the third one.',\n",
    "     'Is this the first document?']"
   ]
  },
  {
   "cell_type": "code",
   "execution_count": null,
   "metadata": {},
   "outputs": [],
   "source": [
    "cv = CountVectorizer()\n",
    "# vectorizer = TfidfVectorizer()\n",
    "\n",
    "word_count_vector = cv.fit_transform(docs)\n",
    "\n",
    "print(cv.get_feature_names())\n",
    "print(word_count_vector.shape) #(sentences/unique words)"
   ]
  },
  {
   "cell_type": "code",
   "execution_count": null,
   "metadata": {},
   "outputs": [],
   "source": [
    "tfidf_transformer = TfidfTransformer(smooth_idf=True, use_idf=True)\n",
    "tfidf_transformer.fit(word_count_vector)"
   ]
  },
  {
   "cell_type": "code",
   "execution_count": null,
   "metadata": {},
   "outputs": [],
   "source": [
    "df_idf = pd.DataFrame(tfidf_transformer.idf_,index=cv.get_feature_names(),columns=[\"idf_weights\"])"
   ]
  },
  {
   "cell_type": "code",
   "execution_count": null,
   "metadata": {},
   "outputs": [],
   "source": [
    "df_idf.sort_values(by=['idf_weights']) # the lower the IDF value of a word, the less unique it is"
   ]
  },
  {
   "cell_type": "code",
   "execution_count": null,
   "metadata": {},
   "outputs": [],
   "source": [
    "count_vector = cv.transform(docs)"
   ]
  },
  {
   "cell_type": "code",
   "execution_count": null,
   "metadata": {},
   "outputs": [],
   "source": [
    "tf_idf_vector = tfidf_transformer.transform(count_vector)"
   ]
  },
  {
   "cell_type": "code",
   "execution_count": null,
   "metadata": {},
   "outputs": [],
   "source": [
    "feature_names = cv.get_feature_names()\n",
    "\n",
    "first_document_vector = tf_idf_vector[0]\n",
    "\n",
    "df_ = pd.DataFrame(first_document_vector.T.todense(),index=feature_names,columns=['tfidf'])\n",
    "df_.sort_values(by=['tfidf'],ascending=True)"
   ]
  },
  {
   "cell_type": "code",
   "execution_count": null,
   "metadata": {},
   "outputs": [],
   "source": [
    "# from sklearn.feature_extraction.text import CountVectorizer\n",
    "# from sklearn.pipeline import Pipeline\n",
    "\n",
    "# corpus = ['this is the first document',\n",
    "#            'this document is the second document',\n",
    "#            'and this is the third one',\n",
    "#            'is this the first document']\n",
    "\n",
    "\n",
    "# vocabulary = ['this', 'document', 'first', 'is', 'second', 'the',\n",
    "#                'and', 'one']\n",
    "\n",
    "\n",
    "# pipe = Pipeline([('count', CountVectorizer(vocabulary=vocabulary)),\n",
    "#                   ('tfid', TfidfTransformer())]).fit(corpus)\n",
    "\n",
    "\n",
    "# pipe['count'].transform(corpus).toarray()\n",
    "# # array([[1, 1, 1, 1, 0, 1, 0, 0],\n",
    "# #        [1, 2, 0, 1, 1, 1, 0, 0],\n",
    "# #        [1, 0, 0, 1, 0, 1, 1, 1],\n",
    "# #        [1, 1, 1, 1, 0, 1, 0, 0]])\n",
    "# pipe['tfid'].idf_\n",
    "# # array([1.        , 1.22314355, 1.51082562, 1.        , 1.91629073,\n",
    "# #        1.        , 1.91629073, 1.91629073])\n",
    "# pipe.transform(corpus).shape\n",
    "# (4, 8)"
   ]
  },
  {
   "cell_type": "markdown",
   "metadata": {},
   "source": [
    "---"
   ]
  },
  {
   "cell_type": "code",
   "execution_count": null,
   "metadata": {},
   "outputs": [],
   "source": [
    "description_set = df['description'].drop_duplicates()"
   ]
  },
  {
   "cell_type": "code",
   "execution_count": null,
   "metadata": {},
   "outputs": [],
   "source": [
    "description_set[0]"
   ]
  },
  {
   "cell_type": "code",
   "execution_count": null,
   "metadata": {},
   "outputs": [],
   "source": [
    "new_df"
   ]
  },
  {
   "cell_type": "code",
   "execution_count": null,
   "metadata": {},
   "outputs": [],
   "source": [
    "string_1 = [description_set[0],description_set[1],description_set[2]]\n",
    "vec_string_1 = cv.fit_transform(string_1)"
   ]
  },
  {
   "cell_type": "code",
   "execution_count": null,
   "metadata": {},
   "outputs": [],
   "source": [
    "print(cv.get_feature_names())\n",
    "print(vec_string_1.shape)"
   ]
  },
  {
   "cell_type": "code",
   "execution_count": null,
   "metadata": {},
   "outputs": [],
   "source": [
    "tfidf_transformer_1 = TfidfTransformer(smooth_idf=True, use_idf=True)\n",
    "tfidf_transformer_1.fit(vec_string_1)"
   ]
  },
  {
   "cell_type": "code",
   "execution_count": null,
   "metadata": {},
   "outputs": [],
   "source": [
    "df_idf_1 = pd.DataFrame(tfidf_transformer_1.idf_,index=cv.get_feature_names(),columns=[\"idf_weights\"])\n",
    "df_idf_1.sort_values(by=['idf_weights'])"
   ]
  },
  {
   "cell_type": "code",
   "execution_count": null,
   "metadata": {},
   "outputs": [],
   "source": [
    "df_idf_1.head(30)"
   ]
  },
  {
   "cell_type": "code",
   "execution_count": null,
   "metadata": {},
   "outputs": [],
   "source": []
  }
 ],
 "metadata": {
  "kernelspec": {
   "display_name": "Python 3.8.0 64-bit",
   "language": "python",
   "name": "python38064bit94409e1e4df94da1b5cc700cc0e6ab29"
  },
  "language_info": {
   "codemirror_mode": {
    "name": "ipython",
    "version": 3
   },
   "file_extension": ".py",
   "mimetype": "text/x-python",
   "name": "python",
   "nbconvert_exporter": "python",
   "pygments_lexer": "ipython3",
   "version": "3.8.0"
  }
 },
 "nbformat": 4,
 "nbformat_minor": 4
}
