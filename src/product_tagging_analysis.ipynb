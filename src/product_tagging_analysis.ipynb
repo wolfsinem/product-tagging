{
 "cells": [
  {
   "cell_type": "markdown",
   "metadata": {},
   "source": [
    "## Product Tagging "
   ]
  },
  {
   "cell_type": "code",
   "execution_count": 1,
   "metadata": {},
   "outputs": [],
   "source": [
    "import pandas as pd\n",
    "import seaborn as sns\n",
    "import numpy as np\n",
    "\n",
    "import matplotlib.pyplot as plt"
   ]
  },
  {
   "cell_type": "code",
   "execution_count": 2,
   "metadata": {},
   "outputs": [],
   "source": [
    "df = pd.read_csv(('/Users/wolfsinem/product-tagging/data/flipkart_com-ecommerce_sample.csv'))"
   ]
  },
  {
   "cell_type": "markdown",
   "metadata": {},
   "source": [
    "### All the columns in the dataset"
   ]
  },
  {
   "cell_type": "code",
   "execution_count": 3,
   "metadata": {},
   "outputs": [
    {
     "data": {
      "text/plain": [
       "Index(['uniq_id', 'crawl_timestamp', 'product_url', 'product_name',\n",
       "       'product_category_tree', 'pid', 'retail_price', 'discounted_price',\n",
       "       'image', 'is_FK_Advantage_product', 'description', 'product_rating',\n",
       "       'overall_rating', 'brand', 'product_specifications'],\n",
       "      dtype='object')"
      ]
     },
     "execution_count": 3,
     "metadata": {},
     "output_type": "execute_result"
    }
   ],
   "source": [
    "df.columns"
   ]
  },
  {
   "cell_type": "markdown",
   "metadata": {},
   "source": [
    "---\n",
    "\n",
    "#### Since we only need the columns product_name, product_category_tree, description, brand and product_specifications, because these seem interesting, we will only select those for the new dataframe"
   ]
  },
  {
   "cell_type": "code",
   "execution_count": 4,
   "metadata": {},
   "outputs": [],
   "source": [
    "new_df = df[['product_name','product_category_tree','description','brand','product_specifications']]"
   ]
  },
  {
   "cell_type": "code",
   "execution_count": 5,
   "metadata": {},
   "outputs": [
    {
     "data": {
      "text/html": [
       "<div>\n",
       "<style scoped>\n",
       "    .dataframe tbody tr th:only-of-type {\n",
       "        vertical-align: middle;\n",
       "    }\n",
       "\n",
       "    .dataframe tbody tr th {\n",
       "        vertical-align: top;\n",
       "    }\n",
       "\n",
       "    .dataframe thead th {\n",
       "        text-align: right;\n",
       "    }\n",
       "</style>\n",
       "<table border=\"1\" class=\"dataframe\">\n",
       "  <thead>\n",
       "    <tr style=\"text-align: right;\">\n",
       "      <th></th>\n",
       "      <th>product_name</th>\n",
       "      <th>product_category_tree</th>\n",
       "      <th>description</th>\n",
       "      <th>brand</th>\n",
       "      <th>product_specifications</th>\n",
       "    </tr>\n",
       "  </thead>\n",
       "  <tbody>\n",
       "    <tr>\n",
       "      <th>0</th>\n",
       "      <td>Alisha Solid Women's Cycling Shorts</td>\n",
       "      <td>[\"Clothing &gt;&gt; Women's Clothing &gt;&gt; Lingerie, Sl...</td>\n",
       "      <td>Key Features of Alisha Solid Women's Cycling S...</td>\n",
       "      <td>Alisha</td>\n",
       "      <td>{\"product_specification\"=&gt;[{\"key\"=&gt;\"Number of ...</td>\n",
       "    </tr>\n",
       "    <tr>\n",
       "      <th>1</th>\n",
       "      <td>FabHomeDecor Fabric Double Sofa Bed</td>\n",
       "      <td>[\"Furniture &gt;&gt; Living Room Furniture &gt;&gt; Sofa B...</td>\n",
       "      <td>FabHomeDecor Fabric Double Sofa Bed (Finish Co...</td>\n",
       "      <td>FabHomeDecor</td>\n",
       "      <td>{\"product_specification\"=&gt;[{\"key\"=&gt;\"Installati...</td>\n",
       "    </tr>\n",
       "    <tr>\n",
       "      <th>2</th>\n",
       "      <td>AW Bellies</td>\n",
       "      <td>[\"Footwear &gt;&gt; Women's Footwear &gt;&gt; Ballerinas &gt;...</td>\n",
       "      <td>Key Features of AW Bellies Sandals Wedges Heel...</td>\n",
       "      <td>AW</td>\n",
       "      <td>{\"product_specification\"=&gt;[{\"key\"=&gt;\"Ideal For\"...</td>\n",
       "    </tr>\n",
       "    <tr>\n",
       "      <th>3</th>\n",
       "      <td>Alisha Solid Women's Cycling Shorts</td>\n",
       "      <td>[\"Clothing &gt;&gt; Women's Clothing &gt;&gt; Lingerie, Sl...</td>\n",
       "      <td>Key Features of Alisha Solid Women's Cycling S...</td>\n",
       "      <td>Alisha</td>\n",
       "      <td>{\"product_specification\"=&gt;[{\"key\"=&gt;\"Number of ...</td>\n",
       "    </tr>\n",
       "    <tr>\n",
       "      <th>4</th>\n",
       "      <td>Sicons All Purpose Arnica Dog Shampoo</td>\n",
       "      <td>[\"Pet Supplies &gt;&gt; Grooming &gt;&gt; Skin &amp; Coat Care...</td>\n",
       "      <td>Specifications of Sicons All Purpose Arnica Do...</td>\n",
       "      <td>Sicons</td>\n",
       "      <td>{\"product_specification\"=&gt;[{\"key\"=&gt;\"Pet Type\",...</td>\n",
       "    </tr>\n",
       "    <tr>\n",
       "      <th>...</th>\n",
       "      <td>...</td>\n",
       "      <td>...</td>\n",
       "      <td>...</td>\n",
       "      <td>...</td>\n",
       "      <td>...</td>\n",
       "    </tr>\n",
       "    <tr>\n",
       "      <th>19995</th>\n",
       "      <td>WallDesign Small Vinyl Sticker</td>\n",
       "      <td>[\"Baby Care &gt;&gt; Baby &amp; Kids Gifts &gt;&gt; Stickers &gt;...</td>\n",
       "      <td>Buy WallDesign Small Vinyl Sticker for Rs.730 ...</td>\n",
       "      <td>WallDesign</td>\n",
       "      <td>{\"product_specification\"=&gt;[{\"key\"=&gt;\"Number of ...</td>\n",
       "    </tr>\n",
       "    <tr>\n",
       "      <th>19996</th>\n",
       "      <td>Wallmantra Large Vinyl Stickers Sticker</td>\n",
       "      <td>[\"Baby Care &gt;&gt; Baby &amp; Kids Gifts &gt;&gt; Stickers &gt;...</td>\n",
       "      <td>Buy Wallmantra Large Vinyl Stickers Sticker fo...</td>\n",
       "      <td>Wallmantra</td>\n",
       "      <td>{\"product_specification\"=&gt;[{\"key\"=&gt;\"Number of ...</td>\n",
       "    </tr>\n",
       "    <tr>\n",
       "      <th>19997</th>\n",
       "      <td>Elite Collection Medium Acrylic Sticker</td>\n",
       "      <td>[\"Baby Care &gt;&gt; Baby &amp; Kids Gifts &gt;&gt; Stickers &gt;...</td>\n",
       "      <td>Buy Elite Collection Medium Acrylic Sticker fo...</td>\n",
       "      <td>Elite Collection</td>\n",
       "      <td>{\"product_specification\"=&gt;[{\"key\"=&gt;\"Number of ...</td>\n",
       "    </tr>\n",
       "    <tr>\n",
       "      <th>19998</th>\n",
       "      <td>Elite Collection Medium Acrylic Sticker</td>\n",
       "      <td>[\"Baby Care &gt;&gt; Baby &amp; Kids Gifts &gt;&gt; Stickers &gt;...</td>\n",
       "      <td>Buy Elite Collection Medium Acrylic Sticker fo...</td>\n",
       "      <td>Elite Collection</td>\n",
       "      <td>{\"product_specification\"=&gt;[{\"key\"=&gt;\"Number of ...</td>\n",
       "    </tr>\n",
       "    <tr>\n",
       "      <th>19999</th>\n",
       "      <td>Elite Collection Medium Acrylic Sticker</td>\n",
       "      <td>[\"Baby Care &gt;&gt; Baby &amp; Kids Gifts &gt;&gt; Stickers &gt;...</td>\n",
       "      <td>Buy Elite Collection Medium Acrylic Sticker fo...</td>\n",
       "      <td>Elite Collection</td>\n",
       "      <td>{\"product_specification\"=&gt;[{\"key\"=&gt;\"Number of ...</td>\n",
       "    </tr>\n",
       "  </tbody>\n",
       "</table>\n",
       "<p>20000 rows × 5 columns</p>\n",
       "</div>"
      ],
      "text/plain": [
       "                                  product_name  \\\n",
       "0          Alisha Solid Women's Cycling Shorts   \n",
       "1          FabHomeDecor Fabric Double Sofa Bed   \n",
       "2                                   AW Bellies   \n",
       "3          Alisha Solid Women's Cycling Shorts   \n",
       "4        Sicons All Purpose Arnica Dog Shampoo   \n",
       "...                                        ...   \n",
       "19995           WallDesign Small Vinyl Sticker   \n",
       "19996  Wallmantra Large Vinyl Stickers Sticker   \n",
       "19997  Elite Collection Medium Acrylic Sticker   \n",
       "19998  Elite Collection Medium Acrylic Sticker   \n",
       "19999  Elite Collection Medium Acrylic Sticker   \n",
       "\n",
       "                                   product_category_tree  \\\n",
       "0      [\"Clothing >> Women's Clothing >> Lingerie, Sl...   \n",
       "1      [\"Furniture >> Living Room Furniture >> Sofa B...   \n",
       "2      [\"Footwear >> Women's Footwear >> Ballerinas >...   \n",
       "3      [\"Clothing >> Women's Clothing >> Lingerie, Sl...   \n",
       "4      [\"Pet Supplies >> Grooming >> Skin & Coat Care...   \n",
       "...                                                  ...   \n",
       "19995  [\"Baby Care >> Baby & Kids Gifts >> Stickers >...   \n",
       "19996  [\"Baby Care >> Baby & Kids Gifts >> Stickers >...   \n",
       "19997  [\"Baby Care >> Baby & Kids Gifts >> Stickers >...   \n",
       "19998  [\"Baby Care >> Baby & Kids Gifts >> Stickers >...   \n",
       "19999  [\"Baby Care >> Baby & Kids Gifts >> Stickers >...   \n",
       "\n",
       "                                             description             brand  \\\n",
       "0      Key Features of Alisha Solid Women's Cycling S...            Alisha   \n",
       "1      FabHomeDecor Fabric Double Sofa Bed (Finish Co...      FabHomeDecor   \n",
       "2      Key Features of AW Bellies Sandals Wedges Heel...                AW   \n",
       "3      Key Features of Alisha Solid Women's Cycling S...            Alisha   \n",
       "4      Specifications of Sicons All Purpose Arnica Do...            Sicons   \n",
       "...                                                  ...               ...   \n",
       "19995  Buy WallDesign Small Vinyl Sticker for Rs.730 ...        WallDesign   \n",
       "19996  Buy Wallmantra Large Vinyl Stickers Sticker fo...        Wallmantra   \n",
       "19997  Buy Elite Collection Medium Acrylic Sticker fo...  Elite Collection   \n",
       "19998  Buy Elite Collection Medium Acrylic Sticker fo...  Elite Collection   \n",
       "19999  Buy Elite Collection Medium Acrylic Sticker fo...  Elite Collection   \n",
       "\n",
       "                                  product_specifications  \n",
       "0      {\"product_specification\"=>[{\"key\"=>\"Number of ...  \n",
       "1      {\"product_specification\"=>[{\"key\"=>\"Installati...  \n",
       "2      {\"product_specification\"=>[{\"key\"=>\"Ideal For\"...  \n",
       "3      {\"product_specification\"=>[{\"key\"=>\"Number of ...  \n",
       "4      {\"product_specification\"=>[{\"key\"=>\"Pet Type\",...  \n",
       "...                                                  ...  \n",
       "19995  {\"product_specification\"=>[{\"key\"=>\"Number of ...  \n",
       "19996  {\"product_specification\"=>[{\"key\"=>\"Number of ...  \n",
       "19997  {\"product_specification\"=>[{\"key\"=>\"Number of ...  \n",
       "19998  {\"product_specification\"=>[{\"key\"=>\"Number of ...  \n",
       "19999  {\"product_specification\"=>[{\"key\"=>\"Number of ...  \n",
       "\n",
       "[20000 rows x 5 columns]"
      ]
     },
     "execution_count": 5,
     "metadata": {},
     "output_type": "execute_result"
    }
   ],
   "source": [
    "new_df"
   ]
  },
  {
   "cell_type": "markdown",
   "metadata": {},
   "source": [
    "### Select one description to test manually"
   ]
  },
  {
   "cell_type": "code",
   "execution_count": 8,
   "metadata": {},
   "outputs": [
    {
     "data": {
      "text/plain": [
       "\"Key Features of Alisha Solid Women's Cycling Shorts Cotton Lycra Navy, Red, Navy,Specifications of Alisha Solid Women's Cycling Shorts Shorts Details Number of Contents in Sales Package Pack of 3 Fabric Cotton Lycra Type Cycling Shorts General Details Pattern Solid Ideal For Women's Fabric Care Gentle Machine Wash in Lukewarm Water, Do Not Bleach Additional Details Style Code ALTHT_3P_21 In the Box 3 shorts\""
      ]
     },
     "execution_count": 8,
     "metadata": {},
     "output_type": "execute_result"
    }
   ],
   "source": [
    "test_string = new_df['description'][0]\n",
    "test_string"
   ]
  },
  {
   "cell_type": "code",
   "execution_count": 9,
   "metadata": {},
   "outputs": [],
   "source": [
    "# https://stackoverflow.com/questions/2661778/tag-generation-from-a-text-content \n",
    "BAD_CHARS = \".!?,\\'\\\"\"\n",
    "words = [ word.strip(BAD_CHARS) for word in test_string.strip().split() if len(word) > 4 ]"
   ]
  },
  {
   "cell_type": "code",
   "execution_count": 10,
   "metadata": {},
   "outputs": [
    {
     "data": {
      "text/plain": [
       "['Features',\n",
       " 'Alisha',\n",
       " 'Solid',\n",
       " \"Women's\",\n",
       " 'Cycling',\n",
       " 'Shorts',\n",
       " 'Cotton',\n",
       " 'Lycra',\n",
       " 'Navy',\n",
       " 'Navy,Specifications',\n",
       " 'Alisha',\n",
       " 'Solid',\n",
       " \"Women's\",\n",
       " 'Cycling',\n",
       " 'Shorts',\n",
       " 'Shorts',\n",
       " 'Details',\n",
       " 'Number',\n",
       " 'Contents',\n",
       " 'Sales',\n",
       " 'Package',\n",
       " 'Fabric',\n",
       " 'Cotton',\n",
       " 'Lycra',\n",
       " 'Cycling',\n",
       " 'Shorts',\n",
       " 'General',\n",
       " 'Details',\n",
       " 'Pattern',\n",
       " 'Solid',\n",
       " 'Ideal',\n",
       " \"Women's\",\n",
       " 'Fabric',\n",
       " 'Gentle',\n",
       " 'Machine',\n",
       " 'Lukewarm',\n",
       " 'Water',\n",
       " 'Bleach',\n",
       " 'Additional',\n",
       " 'Details',\n",
       " 'Style',\n",
       " 'ALTHT_3P_21',\n",
       " 'shorts']"
      ]
     },
     "execution_count": 10,
     "metadata": {},
     "output_type": "execute_result"
    }
   ],
   "source": [
    "words"
   ]
  },
  {
   "cell_type": "code",
   "execution_count": 20,
   "metadata": {},
   "outputs": [],
   "source": [
    "# https://moonbooks.org/Articles/How-to-sort-a-list-by-the-number-of-occurrences-in-python-/\n",
    "from collections import Counter"
   ]
  },
  {
   "cell_type": "markdown",
   "metadata": {},
   "source": [
    "#### As you can see below, the word 'Shorts' occurs the most, following 'Solid' and 'Women's' \n",
    "You could make a new column named 'tags' and append these words to the new column"
   ]
  },
  {
   "cell_type": "code",
   "execution_count": 25,
   "metadata": {},
   "outputs": [
    {
     "data": {
      "text/plain": [
       "[('Shorts', 4),\n",
       " ('Solid', 3),\n",
       " (\"Women's\", 3),\n",
       " ('Cycling', 3),\n",
       " ('Details', 3),\n",
       " ('Alisha', 2),\n",
       " ('Cotton', 2),\n",
       " ('Lycra', 2),\n",
       " ('Fabric', 2),\n",
       " ('Features', 1),\n",
       " ('Navy', 1),\n",
       " ('Navy,Specifications', 1),\n",
       " ('Number', 1),\n",
       " ('Contents', 1),\n",
       " ('Sales', 1),\n",
       " ('Package', 1),\n",
       " ('General', 1),\n",
       " ('Pattern', 1),\n",
       " ('Ideal', 1),\n",
       " ('Gentle', 1),\n",
       " ('Machine', 1),\n",
       " ('Lukewarm', 1),\n",
       " ('Water', 1),\n",
       " ('Bleach', 1),\n",
       " ('Additional', 1),\n",
       " ('Style', 1),\n",
       " ('ALTHT_3P_21', 1),\n",
       " ('shorts', 1)]"
      ]
     },
     "execution_count": 25,
     "metadata": {},
     "output_type": "execute_result"
    }
   ],
   "source": [
    "count_terms = Counter(words).most_common()\n",
    "count_terms"
   ]
  },
  {
   "cell_type": "markdown",
   "metadata": {},
   "source": [
    "### Trying other products"
   ]
  },
  {
   "cell_type": "code",
   "execution_count": 26,
   "metadata": {},
   "outputs": [
    {
     "data": {
      "text/plain": [
       "\"FabHomeDecor Fabric Double Sofa Bed (Finish Color - Leatherette Black Mechanism Type - Pull Out) Price: Rs. 22,646 • Fine deep seating experience • Save Space with the all new click clack Sofa Bed • Easy to fold and vice versa with simple click clack mechanism • Chrome legs with mango wood frame for long term durability • Double cushioned Sofa Bed to provide you with extra softness to make a fine seating experience • A double bed that can easily sleep two,Specifications of FabHomeDecor Fabric Double Sofa Bed (Finish Color - Leatherette Black Mechanism Type - Pull Out) Installation & Demo Installation & Demo Details Installation and demo for this product is done free of cost as part of this purchase. Our service partner will visit your location within 72 business hours from the delivery of the product. In The Box 1 Sofa Bed General Brand FabHomeDecor Mattress Included No Delivery Condition Knock Down Storage Included No Mechanism Type Pull Out Type Sofa Bed Style Contemporary & Modern Filling Material Microfiber Seating Capacity 3 Seater Upholstery Type NA Upholstery Included No Bed Size Double Shape Square Suitable For Living Room Model Number FHD112 Care Instructions Avoid outdoor use and exposure to water or prolonged moisture, Avoid exposure to direct heat or sunlight as this can cause the sofa colour to fade, Keep sharp objects away from your sofa, A little tear on the fabric cover may be hard to repair, Vacuum your sofas periodically with a soft bristled bru...View More Avoid outdoor use and exposure to water or prolonged moisture, Avoid exposure to direct heat or sunlight as this can cause the sofa colour to fade, Keep sharp objects away from your sofa, A little tear on the fabric cover may be hard to repair, Vacuum your sofas periodically with a soft bristled brush attachment or lightly brush them to keep general dirt and dust off the sofa and prevent any embedding between the fibres, Try to avoid food and drink spillage of any kind, If spills occur, do not leave unattended, In case of a stain, a water-free fabric cleaner can be used, However, avoid applying the cleaner directly on the stain as this can cause damage to the fabric and fade colour, Pour the cleaner onto a clean cloth and test its effect on a hidden area of the sofa before cleaning the stain with the cloth, A professional scotchguard treatment is one of the easiest and most effective options to protect against spills or stains and keep pet hair at bay, Getting your sofa professionally cleaned once every 6-8 months will not only take care of the nooks and corners that you can't reach, it will also make it more durable Finish Type Matte Important Note Cancellation NOT allowed for this product after 24 hrs of order booking. Warranty Covered in Warranty Warranty covers all kind of manufacturing defects. Concerned product will either be repaired or replaced based on discretion. Service Type Manufacturer Warranty Warranty Summary 6 Months Domestic Warranty Not Covered in Warranty Warranty does not cover for Improper Handling Dimensions Weight 40 kg Height 838 mm Width 1905 mm Depth 939 mm Disclaimer - The color of the product may vary slightly compared to the picture displayed on your screen. This is due to lighting, pixel quality and color settings - Please check the product's dimensions to ensure the product will fit in the desired location. Also, check if the product will fit through...View More - The color of the product may vary slightly compared to the picture displayed on your screen. This is due to lighting, pixel quality and color settings - Please check the product's dimensions to ensure the product will fit in the desired location. Also, check if the product will fit through the entrance(s) and door(s) of the premises - Please expect an unevenness of up to 5 mm in the product due to differences in surfaces and floor levels - Flipkart, or the Seller delivering the product, will not take up any type of civil work, such as drilling holes in the wall to mount the product. The product will only be assembled in case carpentry assembly is required - In case the product appears to lack shine, wiping the surface with a cloth will help clear the surface of dust particles Material & Color Upholstery Color Leatherette Black Primary Color Black Primary Material Fabric Secondary Material Subtype Mango Wood Secondary Material Foam Finish Color Leatherette Black Primary Material Subtype Foam\""
      ]
     },
     "execution_count": 26,
     "metadata": {},
     "output_type": "execute_result"
    }
   ],
   "source": [
    "test_string_2 = new_df['description'][1]\n",
    "test_string_2"
   ]
  },
  {
   "cell_type": "code",
   "execution_count": 28,
   "metadata": {},
   "outputs": [
    {
     "data": {
      "text/plain": [
       "[('product', 15),\n",
       " ('Warranty', 8),\n",
       " ('Color', 6),\n",
       " ('Material', 6),\n",
       " ('Black', 5),\n",
       " ('Double', 4),\n",
       " ('Leatherette', 4),\n",
       " ('Avoid', 4),\n",
       " ('exposure', 4),\n",
       " ('fabric', 4),\n",
       " ('color', 4),\n",
       " ('check', 4),\n",
       " ('FabHomeDecor', 3),\n",
       " ('Fabric', 3),\n",
       " ('Mechanism', 3),\n",
       " ('Installation', 3),\n",
       " ('location', 3),\n",
       " ('Included', 3),\n",
       " ('Upholstery', 3),\n",
       " ('cause', 3),\n",
       " ('colour', 3),\n",
       " ('cover', 3),\n",
       " ('stain', 3),\n",
       " ('cleaner', 3),\n",
       " ('cloth', 3),\n",
       " ('Please', 3),\n",
       " ('Primary', 3),\n",
       " ('(Finish', 2),\n",
       " ('seating', 2),\n",
       " ('experience', 2),\n",
       " ('click', 2),\n",
       " ('clack', 2),\n",
       " ('outdoor', 2),\n",
       " ('water', 2),\n",
       " ('prolonged', 2),\n",
       " ('moisture', 2),\n",
       " ('direct', 2),\n",
       " ('sunlight', 2),\n",
       " ('fade', 2),\n",
       " ('sharp', 2),\n",
       " ('objects', 2),\n",
       " ('sofa', 2),\n",
       " ('little', 2),\n",
       " ('repair', 2),\n",
       " ('Vacuum', 2),\n",
       " ('sofas', 2),\n",
       " ('periodically', 2),\n",
       " ('bristled', 2),\n",
       " ('brush', 2),\n",
       " ('avoid', 2),\n",
       " ('spills', 2),\n",
       " ('Finish', 2),\n",
       " ('Covered', 2),\n",
       " ('slightly', 2),\n",
       " ('compared', 2),\n",
       " ('picture', 2),\n",
       " ('displayed', 2),\n",
       " ('screen', 2),\n",
       " ('lighting', 2),\n",
       " ('pixel', 2),\n",
       " ('quality', 2),\n",
       " ('settings', 2),\n",
       " (\"product's\", 2),\n",
       " ('dimensions', 2),\n",
       " ('ensure', 2),\n",
       " ('desired', 2),\n",
       " ('Also', 2),\n",
       " ('surface', 2),\n",
       " ('Secondary', 2),\n",
       " ('Subtype', 2),\n",
       " ('Price:', 1),\n",
       " ('22,646', 1),\n",
       " ('Space', 1),\n",
       " ('versa', 1),\n",
       " ('simple', 1),\n",
       " ('mechanism', 1),\n",
       " ('Chrome', 1),\n",
       " ('mango', 1),\n",
       " ('frame', 1),\n",
       " ('durability', 1),\n",
       " ('cushioned', 1),\n",
       " ('provide', 1),\n",
       " ('extra', 1),\n",
       " ('softness', 1),\n",
       " ('double', 1),\n",
       " ('easily', 1),\n",
       " ('sleep', 1),\n",
       " ('two,Specifications', 1),\n",
       " ('Details', 1),\n",
       " ('purchase', 1),\n",
       " ('service', 1),\n",
       " ('partner', 1),\n",
       " ('visit', 1),\n",
       " ('within', 1),\n",
       " ('business', 1),\n",
       " ('hours', 1),\n",
       " ('delivery', 1),\n",
       " ('General', 1),\n",
       " ('Brand', 1),\n",
       " ('Mattress', 1),\n",
       " ('Delivery', 1),\n",
       " ('Condition', 1),\n",
       " ('Knock', 1),\n",
       " ('Storage', 1),\n",
       " ('Style', 1),\n",
       " ('Contemporary', 1),\n",
       " ('Modern', 1),\n",
       " ('Filling', 1),\n",
       " ('Microfiber', 1),\n",
       " ('Seating', 1),\n",
       " ('Capacity', 1),\n",
       " ('Seater', 1),\n",
       " ('Shape', 1),\n",
       " ('Square', 1),\n",
       " ('Suitable', 1),\n",
       " ('Living', 1),\n",
       " ('Model', 1),\n",
       " ('Number', 1),\n",
       " ('FHD112', 1),\n",
       " ('Instructions', 1),\n",
       " ('bru...View', 1),\n",
       " ('attachment', 1),\n",
       " ('lightly', 1),\n",
       " ('general', 1),\n",
       " ('prevent', 1),\n",
       " ('embedding', 1),\n",
       " ('between', 1),\n",
       " ('fibres', 1),\n",
       " ('drink', 1),\n",
       " ('spillage', 1),\n",
       " ('kind', 1),\n",
       " ('occur', 1),\n",
       " ('leave', 1),\n",
       " ('unattended', 1),\n",
       " ('water-free', 1),\n",
       " ('used', 1),\n",
       " ('However', 1),\n",
       " ('applying', 1),\n",
       " ('directly', 1),\n",
       " ('damage', 1),\n",
       " ('clean', 1),\n",
       " ('effect', 1),\n",
       " ('hidden', 1),\n",
       " ('before', 1),\n",
       " ('cleaning', 1),\n",
       " ('professional', 1),\n",
       " ('scotchguard', 1),\n",
       " ('treatment', 1),\n",
       " ('easiest', 1),\n",
       " ('effective', 1),\n",
       " ('options', 1),\n",
       " ('protect', 1),\n",
       " ('against', 1),\n",
       " ('stains', 1),\n",
       " ('Getting', 1),\n",
       " ('professionally', 1),\n",
       " ('cleaned', 1),\n",
       " ('every', 1),\n",
       " ('months', 1),\n",
       " ('nooks', 1),\n",
       " ('corners', 1),\n",
       " (\"can't\", 1),\n",
       " ('reach', 1),\n",
       " ('durable', 1),\n",
       " ('Matte', 1),\n",
       " ('Important', 1),\n",
       " ('Cancellation', 1),\n",
       " ('allowed', 1),\n",
       " ('after', 1),\n",
       " ('order', 1),\n",
       " ('booking', 1),\n",
       " ('covers', 1),\n",
       " ('manufacturing', 1),\n",
       " ('defects', 1),\n",
       " ('Concerned', 1),\n",
       " ('either', 1),\n",
       " ('repaired', 1),\n",
       " ('replaced', 1),\n",
       " ('based', 1),\n",
       " ('discretion', 1),\n",
       " ('Service', 1),\n",
       " ('Manufacturer', 1),\n",
       " ('Summary', 1),\n",
       " ('Months', 1),\n",
       " ('Domestic', 1),\n",
       " ('Improper', 1),\n",
       " ('Handling', 1),\n",
       " ('Dimensions', 1),\n",
       " ('Weight', 1),\n",
       " ('Height', 1),\n",
       " ('Width', 1),\n",
       " ('Depth', 1),\n",
       " ('Disclaimer', 1),\n",
       " ('through...View', 1),\n",
       " ('through', 1),\n",
       " ('entrance(s)', 1),\n",
       " ('door(s)', 1),\n",
       " ('premises', 1),\n",
       " ('expect', 1),\n",
       " ('unevenness', 1),\n",
       " ('differences', 1),\n",
       " ('surfaces', 1),\n",
       " ('floor', 1),\n",
       " ('levels', 1),\n",
       " ('Flipkart', 1),\n",
       " ('Seller', 1),\n",
       " ('delivering', 1),\n",
       " ('civil', 1),\n",
       " ('work', 1),\n",
       " ('drilling', 1),\n",
       " ('holes', 1),\n",
       " ('mount', 1),\n",
       " ('assembled', 1),\n",
       " ('carpentry', 1),\n",
       " ('assembly', 1),\n",
       " ('required', 1),\n",
       " ('appears', 1),\n",
       " ('shine', 1),\n",
       " ('wiping', 1),\n",
       " ('clear', 1),\n",
       " ('particles', 1),\n",
       " ('Mango', 1)]"
      ]
     },
     "execution_count": 28,
     "metadata": {},
     "output_type": "execute_result"
    }
   ],
   "source": [
    "words_2 = [ word.strip(BAD_CHARS) for word in test_string_2.strip().split() if len(word) > 4 ]\n",
    "count_terms_2 = Counter(words_2).most_common()\n",
    "count_terms_2"
   ]
  },
  {
   "cell_type": "code",
   "execution_count": 29,
   "metadata": {},
   "outputs": [
    {
     "data": {
      "text/plain": [
       "'Key Features of AW Bellies Sandals Wedges Heel Casuals,AW Bellies Price: Rs. 499 Material: Synthetic Lifestyle: Casual Heel Type: Wedge Warranty Type: Manufacturer Product Warranty against manufacturing defects: 30 days Care instructions: Allow your pair of shoes to air and de-odorize at regular basis; use shoe bags to prevent any stains or mildew; dust any dry dirt from the surface using a clean cloth; do not use polish or shiner,Specifications of AW Bellies General Ideal For Women Occasion Casual Shoe Details Color Red Outer Material Patent Leather Heel Height 1 inch Number of Contents in Sales Package Pack of 1 In the Box One Pair Of Shoes'"
      ]
     },
     "execution_count": 29,
     "metadata": {},
     "output_type": "execute_result"
    }
   ],
   "source": [
    "test_string_3 = new_df['description'][2]\n",
    "test_string_3"
   ]
  },
  {
   "cell_type": "code",
   "execution_count": 32,
   "metadata": {},
   "outputs": [
    {
     "data": {
      "text/plain": [
       "[('Bellies', 3),\n",
       " ('Casual', 2),\n",
       " ('Type:', 2),\n",
       " ('Warranty', 2),\n",
       " ('Features', 1),\n",
       " ('Sandals', 1),\n",
       " ('Wedges', 1),\n",
       " ('Casuals,AW', 1),\n",
       " ('Price:', 1),\n",
       " ('Material:', 1),\n",
       " ('Synthetic', 1),\n",
       " ('Lifestyle:', 1),\n",
       " ('Wedge', 1),\n",
       " ('Manufacturer', 1),\n",
       " ('Product', 1),\n",
       " ('against', 1),\n",
       " ('manufacturing', 1),\n",
       " ('defects:', 1),\n",
       " ('instructions:', 1),\n",
       " ('Allow', 1),\n",
       " ('shoes', 1),\n",
       " ('de-odorize', 1),\n",
       " ('regular', 1),\n",
       " ('basis;', 1),\n",
       " ('prevent', 1),\n",
       " ('stains', 1),\n",
       " ('mildew;', 1),\n",
       " ('surface', 1),\n",
       " ('using', 1),\n",
       " ('clean', 1),\n",
       " ('cloth;', 1),\n",
       " ('polish', 1),\n",
       " ('shiner,Specifications', 1),\n",
       " ('General', 1),\n",
       " ('Ideal', 1),\n",
       " ('Women', 1),\n",
       " ('Occasion', 1),\n",
       " ('Details', 1),\n",
       " ('Color', 1),\n",
       " ('Outer', 1),\n",
       " ('Material', 1),\n",
       " ('Patent', 1),\n",
       " ('Leather', 1),\n",
       " ('Height', 1),\n",
       " ('Number', 1),\n",
       " ('Contents', 1),\n",
       " ('Sales', 1),\n",
       " ('Package', 1),\n",
       " ('Shoes', 1)]"
      ]
     },
     "execution_count": 32,
     "metadata": {},
     "output_type": "execute_result"
    }
   ],
   "source": [
    "words_3 = [ word.strip(BAD_CHARS) for word in test_string_3.strip().split() if len(word) > 4 ]\n",
    "count_terms_3 = Counter(words_3).most_common()\n",
    "count_terms_3"
   ]
  },
  {
   "cell_type": "code",
   "execution_count": 34,
   "metadata": {},
   "outputs": [
    {
     "data": {
      "text/plain": [
       "'Specifications of Sicons All Purpose Arnica Dog Shampoo (500 ml) General Pet Type Dog Brand Sicons Quantity 500 ml Model Number SH.DF-14 Type All Purpose Fragrance Arnica Form Factor Liquid In the Box Sales Package Shampoo Sicons Dog Fashion Arnica'"
      ]
     },
     "execution_count": 34,
     "metadata": {},
     "output_type": "execute_result"
    }
   ],
   "source": [
    "test_string_4 = new_df['description'][4]\n",
    "test_string_4"
   ]
  },
  {
   "cell_type": "code",
   "execution_count": 35,
   "metadata": {},
   "outputs": [
    {
     "data": {
      "text/plain": [
       "[('Sicons', 3),\n",
       " ('Arnica', 3),\n",
       " ('Purpose', 2),\n",
       " ('Shampoo', 2),\n",
       " ('Specifications', 1),\n",
       " ('General', 1),\n",
       " ('Brand', 1),\n",
       " ('Quantity', 1),\n",
       " ('Model', 1),\n",
       " ('Number', 1),\n",
       " ('SH.DF-14', 1),\n",
       " ('Fragrance', 1),\n",
       " ('Factor', 1),\n",
       " ('Liquid', 1),\n",
       " ('Sales', 1),\n",
       " ('Package', 1),\n",
       " ('Fashion', 1)]"
      ]
     },
     "execution_count": 35,
     "metadata": {},
     "output_type": "execute_result"
    }
   ],
   "source": [
    "words_4 = [ word.strip(BAD_CHARS) for word in test_string_4.strip().split() if len(word) > 4 ]\n",
    "count_terms_4 = Counter(words_4).most_common()\n",
    "count_terms_4"
   ]
  }
 ],
 "metadata": {
  "kernelspec": {
   "display_name": "Python 3.8.0 64-bit",
   "language": "python",
   "name": "python38064bit159108b3a1084e30bae43b4afa6f96dc"
  },
  "language_info": {
   "codemirror_mode": {
    "name": "ipython",
    "version": 3
   },
   "file_extension": ".py",
   "mimetype": "text/x-python",
   "name": "python",
   "nbconvert_exporter": "python",
   "pygments_lexer": "ipython3",
   "version": "3.7.7"
  }
 },
 "nbformat": 4,
 "nbformat_minor": 4
}
