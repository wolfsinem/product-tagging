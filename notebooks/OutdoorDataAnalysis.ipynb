{
 "cells": [
  {
   "cell_type": "code",
   "execution_count": null,
   "metadata": {},
   "outputs": [],
   "source": [
    "import pandas as pd \n",
    "from collections import Counter\n",
    "from nltk.corpus import stopwords \n",
    "import nltk"
   ]
  },
  {
   "cell_type": "code",
   "execution_count": null,
   "metadata": {},
   "outputs": [],
   "source": [
    "path = \"/Users/wolfsinem/product-tagging/data/outdoor_apparel.csv\"\n",
    "df = pd.read_csv(path)"
   ]
  },
  {
   "cell_type": "code",
   "execution_count": null,
   "metadata": {},
   "outputs": [],
   "source": [
    "df = df.drop(columns=['id'])"
   ]
  },
  {
   "cell_type": "code",
   "execution_count": null,
   "metadata": {
    "scrolled": true
   },
   "outputs": [],
   "source": [
    "df.head(5)"
   ]
  },
  {
   "cell_type": "code",
   "execution_count": null,
   "metadata": {},
   "outputs": [],
   "source": [
    "pd.options.mode.chained_assignment = None \n",
    "df['tags'] = \"\""
   ]
  },
  {
   "cell_type": "code",
   "execution_count": null,
   "metadata": {},
   "outputs": [],
   "source": [
    "df.head(5)"
   ]
  },
  {
   "cell_type": "code",
   "execution_count": null,
   "metadata": {},
   "outputs": [],
   "source": [
    "def tokenize_user_text_input(sentence):\n",
    "    \"\"\"This function splits a string into substrings using a regular expression\n",
    "     using RegexpTokenizer. Additionally it counts the occurence of each word\n",
    "     and returns the top x words which can be used as tags\n",
    "\n",
    "    :param sentence: Text description of a product\n",
    "    :type sentence: string\n",
    "    \"\"\"\n",
    "    \n",
    "    tokenizer = nltk.RegexpTokenizer(r\"\\w+\")\n",
    "    new_words = tokenizer.tokenize(str(sentence))\n",
    "    new_words = [token.lower() for token in new_words]\n",
    "    \n",
    "    stop_words = set(stopwords.words('english')) \n",
    "\n",
    "    filter_tokens = [w for w in new_words if not w in stop_words]\n",
    "    count_terms = Counter(filter_tokens).most_common(20)\n",
    "    count_terms = [item[0] for item in count_terms]\n",
    "\n",
    "    token_lists = []\n",
    "    for i in count_terms:\n",
    "        token_lists.append(i)\n",
    "    \n",
    "    token_lists = [item for item in token_lists if not item.isdigit()]\n",
    "        \n",
    "    return token_lists"
   ]
  },
  {
   "cell_type": "code",
   "execution_count": null,
   "metadata": {},
   "outputs": [],
   "source": [
    "def remove_short_words(lst):\n",
    "    return [i for i in lst if len(i) > 2]"
   ]
  },
  {
   "cell_type": "code",
   "execution_count": null,
   "metadata": {},
   "outputs": [],
   "source": [
    "token_lists = []\n",
    "    \n",
    "for i in df['description']:\n",
    "    token_lists.append([x for x in tokenize_user_text_input(str((i))) if not any(c.isdigit() for c in x)])"
   ]
  },
  {
   "cell_type": "code",
   "execution_count": null,
   "metadata": {},
   "outputs": [],
   "source": [
    "del_short_tags = []\n",
    "\n",
    "for i in token_lists:\n",
    "    del_short_tags.append((remove_short_words(i)))"
   ]
  },
  {
   "cell_type": "code",
   "execution_count": null,
   "metadata": {},
   "outputs": [],
   "source": [
    "for i in range(len(df.index)):\n",
    "    df.at[i,'tags'] = del_short_tags[i]"
   ]
  },
  {
   "cell_type": "code",
   "execution_count": null,
   "metadata": {},
   "outputs": [],
   "source": [
    "df.head(1)"
   ]
  },
  {
   "cell_type": "code",
   "execution_count": null,
   "metadata": {
    "scrolled": true
   },
   "outputs": [],
   "source": [
    "df.tags[0]"
   ]
  }
 ],
 "metadata": {
  "kernelspec": {
   "display_name": "Python 3.8.0 64-bit",
   "language": "python",
   "name": "python38064bit94409e1e4df94da1b5cc700cc0e6ab29"
  },
  "language_info": {
   "codemirror_mode": {
    "name": "ipython",
    "version": 3
   },
   "file_extension": ".py",
   "mimetype": "text/x-python",
   "name": "python",
   "nbconvert_exporter": "python",
   "pygments_lexer": "ipython3",
   "version": "3.8.0"
  }
 },
 "nbformat": 4,
 "nbformat_minor": 2
}
