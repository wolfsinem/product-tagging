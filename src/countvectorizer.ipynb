{
 "cells": [
  {
   "cell_type": "code",
   "execution_count": 1,
   "metadata": {},
   "outputs": [],
   "source": [
    "from sklearn.feature_extraction.text import CountVectorizer"
   ]
  },
  {
   "cell_type": "code",
   "execution_count": 2,
   "metadata": {},
   "outputs": [],
   "source": [
    "text = [\"Hello, my name is Sinem and I am a student\"]\n",
    "second_text = [\"Who are you and are you a student too?\"]"
   ]
  },
  {
   "cell_type": "code",
   "execution_count": 3,
   "metadata": {},
   "outputs": [
    {
     "data": {
      "text/plain": [
       "CountVectorizer(analyzer='word', binary=False, decode_error='strict',\n",
       "                dtype=<class 'numpy.int64'>, encoding='utf-8', input='content',\n",
       "                lowercase=True, max_df=1.0, max_features=None, min_df=1,\n",
       "                ngram_range=(1, 1), preprocessor=None, stop_words=None,\n",
       "                strip_accents=None, token_pattern='(?u)\\\\b\\\\w\\\\w+\\\\b',\n",
       "                tokenizer=None, vocabulary=None)"
      ]
     },
     "execution_count": 3,
     "metadata": {},
     "output_type": "execute_result"
    }
   ],
   "source": [
    "# Convert a collection of text to a matrix of token counts. This implementation produces a sparse representation of the counts\n",
    "vectorizer = CountVectorizer()\n",
    "\n",
    "# tokenize and build vocabulary\n",
    "vectorizer.fit(text)"
   ]
  },
  {
   "cell_type": "code",
   "execution_count": 4,
   "metadata": {},
   "outputs": [
    {
     "name": "stdout",
     "output_type": "stream",
     "text": [
      "{'hello': 2, 'my': 4, 'name': 5, 'is': 3, 'sinem': 6, 'and': 1, 'am': 0, 'student': 7}\n"
     ]
    }
   ],
   "source": [
    "# summerize\n",
    "print(vectorizer.vocabulary_)"
   ]
  },
  {
   "cell_type": "code",
   "execution_count": 5,
   "metadata": {},
   "outputs": [
    {
     "name": "stdout",
     "output_type": "stream",
     "text": [
      "[[0 1 0 0 0 0 0 1]]\n"
     ]
    }
   ],
   "source": [
    "# encode document \n",
    "new_vector = vectorizer.transform(second_text)\n",
    "print(new_vector.toarray())"
   ]
  },
  {
   "cell_type": "markdown",
   "metadata": {},
   "source": [
    "index 1 and 7 have words in common; these are 'and' and 'student'"
   ]
  },
  {
   "cell_type": "markdown",
   "metadata": {},
   "source": [
    "---"
   ]
  },
  {
   "cell_type": "code",
   "execution_count": 6,
   "metadata": {},
   "outputs": [],
   "source": [
    "import pandas as pd\n",
    "import numpy as np\n",
    "import matplotlib.pyplot as plt"
   ]
  },
  {
   "cell_type": "code",
   "execution_count": 7,
   "metadata": {},
   "outputs": [
    {
     "data": {
      "text/plain": [
       "[\"Key Features of Alisha Solid Women's Cycling Shorts Cotton Lycra Navy, Red, Navy,Specifications of Alisha Solid Women's Cycling Shorts Shorts Details Number of Contents in Sales Package Pack of 3 Fabric Cotton Lycra Type Cycling Shorts General Details Pattern Solid Ideal For Women's Fabric Care Gentle Machine Wash in Lukewarm Water, Do Not Bleach Additional Details Style Code ALTHT_3P_21 In the Box 3 shorts\"]"
      ]
     },
     "execution_count": 7,
     "metadata": {},
     "output_type": "execute_result"
    }
   ],
   "source": [
    "df = pd.read_csv(('/Users/wolfsinem/product-tagging/data/flipkart_com-ecommerce_sample.csv'))\n",
    "test_string = [df['description'][0]]\n",
    "test_string"
   ]
  },
  {
   "cell_type": "code",
   "execution_count": 8,
   "metadata": {},
   "outputs": [],
   "source": [
    "vectorizer_test = CountVectorizer(stop_words='english')"
   ]
  },
  {
   "cell_type": "code",
   "execution_count": 9,
   "metadata": {},
   "outputs": [
    {
     "data": {
      "text/plain": [
       "CountVectorizer(analyzer='word', binary=False, decode_error='strict',\n",
       "                dtype=<class 'numpy.int64'>, encoding='utf-8', input='content',\n",
       "                lowercase=True, max_df=1.0, max_features=None, min_df=1,\n",
       "                ngram_range=(1, 1), preprocessor=None, stop_words='english',\n",
       "                strip_accents=None, token_pattern='(?u)\\\\b\\\\w\\\\w+\\\\b',\n",
       "                tokenizer=None, vocabulary=None)"
      ]
     },
     "execution_count": 9,
     "metadata": {},
     "output_type": "execute_result"
    }
   ],
   "source": [
    "vectorizer_test.fit(test_string)"
   ]
  },
  {
   "cell_type": "code",
   "execution_count": 10,
   "metadata": {},
   "outputs": [
    {
     "name": "stdout",
     "output_type": "stream",
     "text": [
      "{'key': 16, 'features': 12, 'alisha': 1, 'solid': 28, 'women': 34, 'cycling': 9, 'shorts': 27, 'cotton': 8, 'lycra': 18, 'navy': 20, 'red': 25, 'specifications': 29, 'details': 10, 'number': 21, 'contents': 7, 'sales': 26, 'package': 23, 'pack': 22, 'fabric': 11, 'type': 31, 'general': 13, 'pattern': 24, 'ideal': 15, 'care': 5, 'gentle': 14, 'machine': 19, 'wash': 32, 'lukewarm': 17, 'water': 33, 'bleach': 3, 'additional': 0, 'style': 30, 'code': 6, 'altht_3p_21': 2, 'box': 4}\n"
     ]
    }
   ],
   "source": [
    "print(vectorizer_test.vocabulary_)"
   ]
  },
  {
   "cell_type": "code",
   "execution_count": 11,
   "metadata": {},
   "outputs": [
    {
     "data": {
      "text/plain": [
       "['additional',\n",
       " 'alisha',\n",
       " 'altht_3p_21',\n",
       " 'bleach',\n",
       " 'box',\n",
       " 'care',\n",
       " 'code',\n",
       " 'contents',\n",
       " 'cotton',\n",
       " 'cycling',\n",
       " 'details',\n",
       " 'fabric',\n",
       " 'features',\n",
       " 'general',\n",
       " 'gentle',\n",
       " 'ideal',\n",
       " 'key',\n",
       " 'lukewarm',\n",
       " 'lycra',\n",
       " 'machine',\n",
       " 'navy',\n",
       " 'number',\n",
       " 'pack',\n",
       " 'package',\n",
       " 'pattern',\n",
       " 'red',\n",
       " 'sales',\n",
       " 'shorts',\n",
       " 'solid',\n",
       " 'specifications',\n",
       " 'style',\n",
       " 'type',\n",
       " 'wash',\n",
       " 'water',\n",
       " 'women']"
      ]
     },
     "execution_count": 11,
     "metadata": {},
     "output_type": "execute_result"
    }
   ],
   "source": [
    "vectorizer_test.get_feature_names()"
   ]
  },
  {
   "cell_type": "code",
   "execution_count": 12,
   "metadata": {},
   "outputs": [
    {
     "name": "stdout",
     "output_type": "stream",
     "text": [
      "[[0 0 0 0 1 2 0 0 0 0 1 7 0 2 0 0 0 0 0 0 0 1 0 0 0 0 0 0 0 1 1 8 0 3 0]]\n"
     ]
    }
   ],
   "source": [
    "test_string_2 = [df['description'][1]]\n",
    "\n",
    "new_vector_test = vectorizer_test.transform(test_string_2)\n",
    "print(new_vector_test.toarray())"
   ]
  },
  {
   "cell_type": "code",
   "execution_count": 13,
   "metadata": {},
   "outputs": [
    {
     "data": {
      "text/plain": [
       "\"FabHomeDecor Fabric Double Sofa Bed (Finish Color - Leatherette Black Mechanism Type - Pull Out) Price: Rs. 22,646 • Fine deep seating experience • Save Space with the all new click clack Sofa Bed • Easy to fold and vice versa with simple click clack mechanism • Chrome legs with mango wood frame for long term durability • Double cushioned Sofa Bed to provide you with extra softness to make a fine seating experience • A double bed that can easily sleep two,Specifications of FabHomeDecor Fabric Double Sofa Bed (Finish Color - Leatherette Black Mechanism Type - Pull Out) Installation & Demo Installation & Demo Details Installation and demo for this product is done free of cost as part of this purchase. Our service partner will visit your location within 72 business hours from the delivery of the product. In The Box 1 Sofa Bed General Brand FabHomeDecor Mattress Included No Delivery Condition Knock Down Storage Included No Mechanism Type Pull Out Type Sofa Bed Style Contemporary & Modern Filling Material Microfiber Seating Capacity 3 Seater Upholstery Type NA Upholstery Included No Bed Size Double Shape Square Suitable For Living Room Model Number FHD112 Care Instructions Avoid outdoor use and exposure to water or prolonged moisture, Avoid exposure to direct heat or sunlight as this can cause the sofa colour to fade, Keep sharp objects away from your sofa, A little tear on the fabric cover may be hard to repair, Vacuum your sofas periodically with a soft bristled bru...View More Avoid outdoor use and exposure to water or prolonged moisture, Avoid exposure to direct heat or sunlight as this can cause the sofa colour to fade, Keep sharp objects away from your sofa, A little tear on the fabric cover may be hard to repair, Vacuum your sofas periodically with a soft bristled brush attachment or lightly brush them to keep general dirt and dust off the sofa and prevent any embedding between the fibres, Try to avoid food and drink spillage of any kind, If spills occur, do not leave unattended, In case of a stain, a water-free fabric cleaner can be used, However, avoid applying the cleaner directly on the stain as this can cause damage to the fabric and fade colour, Pour the cleaner onto a clean cloth and test its effect on a hidden area of the sofa before cleaning the stain with the cloth, A professional scotchguard treatment is one of the easiest and most effective options to protect against spills or stains and keep pet hair at bay, Getting your sofa professionally cleaned once every 6-8 months will not only take care of the nooks and corners that you can't reach, it will also make it more durable Finish Type Matte Important Note Cancellation NOT allowed for this product after 24 hrs of order booking. Warranty Covered in Warranty Warranty covers all kind of manufacturing defects. Concerned product will either be repaired or replaced based on discretion. Service Type Manufacturer Warranty Warranty Summary 6 Months Domestic Warranty Not Covered in Warranty Warranty does not cover for Improper Handling Dimensions Weight 40 kg Height 838 mm Width 1905 mm Depth 939 mm Disclaimer - The color of the product may vary slightly compared to the picture displayed on your screen. This is due to lighting, pixel quality and color settings - Please check the product's dimensions to ensure the product will fit in the desired location. Also, check if the product will fit through...View More - The color of the product may vary slightly compared to the picture displayed on your screen. This is due to lighting, pixel quality and color settings - Please check the product's dimensions to ensure the product will fit in the desired location. Also, check if the product will fit through the entrance(s) and door(s) of the premises - Please expect an unevenness of up to 5 mm in the product due to differences in surfaces and floor levels - Flipkart, or the Seller delivering the product, will not take up any type of civil work, such as drilling holes in the wall to mount the product. The product will only be assembled in case carpentry assembly is required - In case the product appears to lack shine, wiping the surface with a cloth will help clear the surface of dust particles Material & Color Upholstery Color Leatherette Black Primary Color Black Primary Material Fabric Secondary Material Subtype Mango Wood Secondary Material Foam Finish Color Leatherette Black Primary Material Subtype Foam\""
      ]
     },
     "execution_count": 13,
     "metadata": {},
     "output_type": "execute_result"
    }
   ],
   "source": [
    "df['description'][1]"
   ]
  },
  {
   "cell_type": "code",
   "execution_count": 14,
   "metadata": {},
   "outputs": [
    {
     "data": {
      "text/plain": [
       "(1, 35)"
      ]
     },
     "execution_count": 14,
     "metadata": {},
     "output_type": "execute_result"
    }
   ],
   "source": [
    "new_vector_test.shape # there are 35 unique words"
   ]
  },
  {
   "cell_type": "markdown",
   "metadata": {},
   "source": [
    "---"
   ]
  },
  {
   "cell_type": "markdown",
   "metadata": {},
   "source": [
    "### Trying on multiple descriptions"
   ]
  },
  {
   "cell_type": "code",
   "execution_count": 15,
   "metadata": {},
   "outputs": [],
   "source": [
    "documents = [df['description'][0],df['description'][1],df['description'][3]]"
   ]
  },
  {
   "cell_type": "code",
   "execution_count": 16,
   "metadata": {},
   "outputs": [],
   "source": [
    "cv = CountVectorizer(documents, stop_words='english')\n",
    "count_vector = cv.fit_transform(documents)"
   ]
  },
  {
   "cell_type": "code",
   "execution_count": 17,
   "metadata": {},
   "outputs": [
    {
     "data": {
      "text/plain": [
       "{'key': 140,\n",
       " 'features': 107,\n",
       " 'alisha': 9,\n",
       " 'solid': 237,\n",
       " 'women': 277,\n",
       " 'cycling': 65,\n",
       " 'shorts': 228,\n",
       " 'cotton': 60,\n",
       " 'lycra': 156,\n",
       " 'navy': 174,\n",
       " 'red': 208,\n",
       " 'specifications': 239,\n",
       " 'details': 74,\n",
       " 'number': 178,\n",
       " 'contents': 57,\n",
       " 'sales': 215,\n",
       " 'package': 185,\n",
       " 'pack': 184,\n",
       " 'fabric': 105,\n",
       " 'type': 258,\n",
       " 'general': 121,\n",
       " 'pattern': 188,\n",
       " 'ideal': 134,\n",
       " 'care': 35,\n",
       " 'gentle': 122,\n",
       " 'machine': 157,\n",
       " 'wash': 272,\n",
       " 'lukewarm': 155,\n",
       " 'water': 273,\n",
       " 'bleach': 25,\n",
       " 'additional': 8,\n",
       " 'style': 246,\n",
       " 'code': 50,\n",
       " 'altht_3p_21': 12,\n",
       " 'box': 27,\n",
       " 'fabhomedecor': 104,\n",
       " 'double': 86,\n",
       " 'sofa': 233,\n",
       " 'bed': 23,\n",
       " 'finish': 112,\n",
       " 'color': 51,\n",
       " 'leatherette': 145,\n",
       " 'black': 24,\n",
       " 'mechanism': 165,\n",
       " 'pull': 204,\n",
       " 'price': 196,\n",
       " 'rs': 214,\n",
       " '22': 1,\n",
       " '646': 4,\n",
       " 'fine': 111,\n",
       " 'deep': 67,\n",
       " 'seating': 220,\n",
       " 'experience': 101,\n",
       " 'save': 216,\n",
       " 'space': 238,\n",
       " 'new': 175,\n",
       " 'click': 48,\n",
       " 'clack': 42,\n",
       " 'easy': 94,\n",
       " 'fold': 117,\n",
       " 'vice': 267,\n",
       " 'versa': 266,\n",
       " 'simple': 229,\n",
       " 'chrome': 40,\n",
       " 'legs': 147,\n",
       " 'mango': 159,\n",
       " 'wood': 278,\n",
       " 'frame': 119,\n",
       " 'long': 154,\n",
       " 'term': 254,\n",
       " 'durability': 89,\n",
       " 'cushioned': 64,\n",
       " 'provide': 203,\n",
       " 'extra': 103,\n",
       " 'softness': 236,\n",
       " 'make': 158,\n",
       " 'easily': 93,\n",
       " 'sleep': 231,\n",
       " 'installation': 138,\n",
       " 'demo': 71,\n",
       " 'product': 198,\n",
       " 'free': 120,\n",
       " 'cost': 59,\n",
       " 'purchase': 205,\n",
       " 'service': 223,\n",
       " 'partner': 187,\n",
       " 'visit': 269,\n",
       " 'location': 153,\n",
       " '72': 5,\n",
       " 'business': 32,\n",
       " 'hours': 132,\n",
       " 'delivery': 70,\n",
       " 'brand': 28,\n",
       " 'mattress': 164,\n",
       " 'included': 137,\n",
       " 'condition': 55,\n",
       " 'knock': 143,\n",
       " 'storage': 245,\n",
       " 'contemporary': 56,\n",
       " 'modern': 169,\n",
       " 'filling': 110,\n",
       " 'material': 162,\n",
       " 'microfiber': 166,\n",
       " 'capacity': 34,\n",
       " 'seater': 219,\n",
       " 'upholstery': 261,\n",
       " 'na': 173,\n",
       " 'size': 230,\n",
       " 'shape': 225,\n",
       " 'square': 242,\n",
       " 'suitable': 248,\n",
       " 'living': 152,\n",
       " 'room': 213,\n",
       " 'model': 168,\n",
       " 'fhd112': 108,\n",
       " 'instructions': 139,\n",
       " 'avoid': 19,\n",
       " 'outdoor': 183,\n",
       " 'use': 262,\n",
       " 'exposure': 102,\n",
       " 'prolonged': 201,\n",
       " 'moisture': 170,\n",
       " 'direct': 77,\n",
       " 'heat': 127,\n",
       " 'sunlight': 250,\n",
       " 'cause': 38,\n",
       " 'colour': 52,\n",
       " 'fade': 106,\n",
       " 'sharp': 226,\n",
       " 'objects': 179,\n",
       " 'away': 20,\n",
       " 'little': 151,\n",
       " 'tear': 253,\n",
       " 'cover': 61,\n",
       " 'hard': 126,\n",
       " 'repair': 209,\n",
       " 'vacuum': 264,\n",
       " 'sofas': 234,\n",
       " 'periodically': 189,\n",
       " 'soft': 235,\n",
       " 'bristled': 29,\n",
       " 'bru': 30,\n",
       " 'view': 268,\n",
       " 'brush': 31,\n",
       " 'attachment': 18,\n",
       " 'lightly': 150,\n",
       " 'dirt': 79,\n",
       " 'dust': 91,\n",
       " 'prevent': 195,\n",
       " 'embedding': 97,\n",
       " 'fibres': 109,\n",
       " 'try': 257,\n",
       " 'food': 118,\n",
       " 'drink': 88,\n",
       " 'spillage': 240,\n",
       " 'kind': 142,\n",
       " 'spills': 241,\n",
       " 'occur': 180,\n",
       " 'leave': 146,\n",
       " 'unattended': 259,\n",
       " 'case': 37,\n",
       " 'stain': 243,\n",
       " 'cleaner': 45,\n",
       " 'used': 263,\n",
       " 'applying': 14,\n",
       " 'directly': 78,\n",
       " 'damage': 66,\n",
       " 'pour': 193,\n",
       " 'clean': 43,\n",
       " 'cloth': 49,\n",
       " 'test': 255,\n",
       " 'effect': 95,\n",
       " 'hidden': 130,\n",
       " 'area': 15,\n",
       " 'cleaning': 46,\n",
       " 'professional': 199,\n",
       " 'scotchguard': 217,\n",
       " 'treatment': 256,\n",
       " 'easiest': 92,\n",
       " 'effective': 96,\n",
       " 'options': 181,\n",
       " 'protect': 202,\n",
       " 'stains': 244,\n",
       " 'pet': 190,\n",
       " 'hair': 124,\n",
       " 'bay': 22,\n",
       " 'getting': 123,\n",
       " 'professionally': 200,\n",
       " 'cleaned': 44,\n",
       " 'months': 171,\n",
       " 'nooks': 176,\n",
       " 'corners': 58,\n",
       " 'reach': 207,\n",
       " 'durable': 90,\n",
       " 'matte': 163,\n",
       " 'important': 135,\n",
       " 'note': 177,\n",
       " 'cancellation': 33,\n",
       " 'allowed': 10,\n",
       " '24': 2,\n",
       " 'hrs': 133,\n",
       " 'order': 182,\n",
       " 'booking': 26,\n",
       " 'warranty': 271,\n",
       " 'covered': 62,\n",
       " 'covers': 63,\n",
       " 'manufacturing': 161,\n",
       " 'defects': 68,\n",
       " 'concerned': 54,\n",
       " 'repaired': 210,\n",
       " 'replaced': 211,\n",
       " 'based': 21,\n",
       " 'discretion': 81,\n",
       " 'manufacturer': 160,\n",
       " 'summary': 249,\n",
       " 'domestic': 84,\n",
       " 'does': 83,\n",
       " 'improper': 136,\n",
       " 'handling': 125,\n",
       " 'dimensions': 76,\n",
       " 'weight': 274,\n",
       " '40': 3,\n",
       " 'kg': 141,\n",
       " 'height': 128,\n",
       " '838': 6,\n",
       " 'mm': 167,\n",
       " 'width': 275,\n",
       " '1905': 0,\n",
       " 'depth': 72,\n",
       " '939': 7,\n",
       " 'disclaimer': 80,\n",
       " 'vary': 265,\n",
       " 'slightly': 232,\n",
       " 'compared': 53,\n",
       " 'picture': 191,\n",
       " 'displayed': 82,\n",
       " 'screen': 218,\n",
       " 'lighting': 149,\n",
       " 'pixel': 192,\n",
       " 'quality': 206,\n",
       " 'settings': 224,\n",
       " 'check': 39,\n",
       " 'ensure': 98,\n",
       " 'fit': 113,\n",
       " 'desired': 73,\n",
       " 'entrance': 99,\n",
       " 'door': 85,\n",
       " 'premises': 194,\n",
       " 'expect': 100,\n",
       " 'unevenness': 260,\n",
       " 'differences': 75,\n",
       " 'surfaces': 252,\n",
       " 'floor': 115,\n",
       " 'levels': 148,\n",
       " 'flipkart': 114,\n",
       " 'seller': 222,\n",
       " 'delivering': 69,\n",
       " 'civil': 41,\n",
       " 'work': 279,\n",
       " 'drilling': 87,\n",
       " 'holes': 131,\n",
       " 'wall': 270,\n",
       " 'mount': 172,\n",
       " 'assembled': 16,\n",
       " 'carpentry': 36,\n",
       " 'assembly': 17,\n",
       " 'required': 212,\n",
       " 'appears': 13,\n",
       " 'lack': 144,\n",
       " 'shine': 227,\n",
       " 'wiping': 276,\n",
       " 'surface': 251,\n",
       " 'help': 129,\n",
       " 'clear': 47,\n",
       " 'particles': 186,\n",
       " 'primary': 197,\n",
       " 'secondary': 221,\n",
       " 'subtype': 247,\n",
       " 'foam': 116,\n",
       " 'altght_11': 11}"
      ]
     },
     "execution_count": 17,
     "metadata": {},
     "output_type": "execute_result"
    }
   ],
   "source": [
    "# show resulting vocabulary; the numbers are not counts, they are the position in the sparse vector.\n",
    "cv.vocabulary_"
   ]
  },
  {
   "cell_type": "code",
   "execution_count": 18,
   "metadata": {},
   "outputs": [
    {
     "data": {
      "text/plain": [
       "(3, 280)"
      ]
     },
     "execution_count": 18,
     "metadata": {},
     "output_type": "execute_result"
    }
   ],
   "source": [
    "count_vector.shape # there are 3 different descriptions and 280 unique words. "
   ]
  },
  {
   "cell_type": "code",
   "execution_count": 19,
   "metadata": {},
   "outputs": [
    {
     "data": {
      "text/plain": [
       "['1905',\n",
       " '22',\n",
       " '24',\n",
       " '40',\n",
       " '646',\n",
       " '72',\n",
       " '838',\n",
       " '939',\n",
       " 'additional',\n",
       " 'alisha',\n",
       " 'allowed',\n",
       " 'altght_11',\n",
       " 'altht_3p_21',\n",
       " 'appears',\n",
       " 'applying',\n",
       " 'area',\n",
       " 'assembled',\n",
       " 'assembly',\n",
       " 'attachment',\n",
       " 'avoid',\n",
       " 'away',\n",
       " 'based',\n",
       " 'bay',\n",
       " 'bed',\n",
       " 'black',\n",
       " 'bleach',\n",
       " 'booking',\n",
       " 'box',\n",
       " 'brand',\n",
       " 'bristled',\n",
       " 'bru',\n",
       " 'brush',\n",
       " 'business',\n",
       " 'cancellation',\n",
       " 'capacity',\n",
       " 'care',\n",
       " 'carpentry',\n",
       " 'case',\n",
       " 'cause',\n",
       " 'check',\n",
       " 'chrome',\n",
       " 'civil',\n",
       " 'clack',\n",
       " 'clean',\n",
       " 'cleaned',\n",
       " 'cleaner',\n",
       " 'cleaning',\n",
       " 'clear',\n",
       " 'click',\n",
       " 'cloth',\n",
       " 'code',\n",
       " 'color',\n",
       " 'colour',\n",
       " 'compared',\n",
       " 'concerned',\n",
       " 'condition',\n",
       " 'contemporary',\n",
       " 'contents',\n",
       " 'corners',\n",
       " 'cost',\n",
       " 'cotton',\n",
       " 'cover',\n",
       " 'covered',\n",
       " 'covers',\n",
       " 'cushioned',\n",
       " 'cycling',\n",
       " 'damage',\n",
       " 'deep',\n",
       " 'defects',\n",
       " 'delivering',\n",
       " 'delivery',\n",
       " 'demo',\n",
       " 'depth',\n",
       " 'desired',\n",
       " 'details',\n",
       " 'differences',\n",
       " 'dimensions',\n",
       " 'direct',\n",
       " 'directly',\n",
       " 'dirt',\n",
       " 'disclaimer',\n",
       " 'discretion',\n",
       " 'displayed',\n",
       " 'does',\n",
       " 'domestic',\n",
       " 'door',\n",
       " 'double',\n",
       " 'drilling',\n",
       " 'drink',\n",
       " 'durability',\n",
       " 'durable',\n",
       " 'dust',\n",
       " 'easiest',\n",
       " 'easily',\n",
       " 'easy',\n",
       " 'effect',\n",
       " 'effective',\n",
       " 'embedding',\n",
       " 'ensure',\n",
       " 'entrance',\n",
       " 'expect',\n",
       " 'experience',\n",
       " 'exposure',\n",
       " 'extra',\n",
       " 'fabhomedecor',\n",
       " 'fabric',\n",
       " 'fade',\n",
       " 'features',\n",
       " 'fhd112',\n",
       " 'fibres',\n",
       " 'filling',\n",
       " 'fine',\n",
       " 'finish',\n",
       " 'fit',\n",
       " 'flipkart',\n",
       " 'floor',\n",
       " 'foam',\n",
       " 'fold',\n",
       " 'food',\n",
       " 'frame',\n",
       " 'free',\n",
       " 'general',\n",
       " 'gentle',\n",
       " 'getting',\n",
       " 'hair',\n",
       " 'handling',\n",
       " 'hard',\n",
       " 'heat',\n",
       " 'height',\n",
       " 'help',\n",
       " 'hidden',\n",
       " 'holes',\n",
       " 'hours',\n",
       " 'hrs',\n",
       " 'ideal',\n",
       " 'important',\n",
       " 'improper',\n",
       " 'included',\n",
       " 'installation',\n",
       " 'instructions',\n",
       " 'key',\n",
       " 'kg',\n",
       " 'kind',\n",
       " 'knock',\n",
       " 'lack',\n",
       " 'leatherette',\n",
       " 'leave',\n",
       " 'legs',\n",
       " 'levels',\n",
       " 'lighting',\n",
       " 'lightly',\n",
       " 'little',\n",
       " 'living',\n",
       " 'location',\n",
       " 'long',\n",
       " 'lukewarm',\n",
       " 'lycra',\n",
       " 'machine',\n",
       " 'make',\n",
       " 'mango',\n",
       " 'manufacturer',\n",
       " 'manufacturing',\n",
       " 'material',\n",
       " 'matte',\n",
       " 'mattress',\n",
       " 'mechanism',\n",
       " 'microfiber',\n",
       " 'mm',\n",
       " 'model',\n",
       " 'modern',\n",
       " 'moisture',\n",
       " 'months',\n",
       " 'mount',\n",
       " 'na',\n",
       " 'navy',\n",
       " 'new',\n",
       " 'nooks',\n",
       " 'note',\n",
       " 'number',\n",
       " 'objects',\n",
       " 'occur',\n",
       " 'options',\n",
       " 'order',\n",
       " 'outdoor',\n",
       " 'pack',\n",
       " 'package',\n",
       " 'particles',\n",
       " 'partner',\n",
       " 'pattern',\n",
       " 'periodically',\n",
       " 'pet',\n",
       " 'picture',\n",
       " 'pixel',\n",
       " 'pour',\n",
       " 'premises',\n",
       " 'prevent',\n",
       " 'price',\n",
       " 'primary',\n",
       " 'product',\n",
       " 'professional',\n",
       " 'professionally',\n",
       " 'prolonged',\n",
       " 'protect',\n",
       " 'provide',\n",
       " 'pull',\n",
       " 'purchase',\n",
       " 'quality',\n",
       " 'reach',\n",
       " 'red',\n",
       " 'repair',\n",
       " 'repaired',\n",
       " 'replaced',\n",
       " 'required',\n",
       " 'room',\n",
       " 'rs',\n",
       " 'sales',\n",
       " 'save',\n",
       " 'scotchguard',\n",
       " 'screen',\n",
       " 'seater',\n",
       " 'seating',\n",
       " 'secondary',\n",
       " 'seller',\n",
       " 'service',\n",
       " 'settings',\n",
       " 'shape',\n",
       " 'sharp',\n",
       " 'shine',\n",
       " 'shorts',\n",
       " 'simple',\n",
       " 'size',\n",
       " 'sleep',\n",
       " 'slightly',\n",
       " 'sofa',\n",
       " 'sofas',\n",
       " 'soft',\n",
       " 'softness',\n",
       " 'solid',\n",
       " 'space',\n",
       " 'specifications',\n",
       " 'spillage',\n",
       " 'spills',\n",
       " 'square',\n",
       " 'stain',\n",
       " 'stains',\n",
       " 'storage',\n",
       " 'style',\n",
       " 'subtype',\n",
       " 'suitable',\n",
       " 'summary',\n",
       " 'sunlight',\n",
       " 'surface',\n",
       " 'surfaces',\n",
       " 'tear',\n",
       " 'term',\n",
       " 'test',\n",
       " 'treatment',\n",
       " 'try',\n",
       " 'type',\n",
       " 'unattended',\n",
       " 'unevenness',\n",
       " 'upholstery',\n",
       " 'use',\n",
       " 'used',\n",
       " 'vacuum',\n",
       " 'vary',\n",
       " 'versa',\n",
       " 'vice',\n",
       " 'view',\n",
       " 'visit',\n",
       " 'wall',\n",
       " 'warranty',\n",
       " 'wash',\n",
       " 'water',\n",
       " 'weight',\n",
       " 'width',\n",
       " 'wiping',\n",
       " 'women',\n",
       " 'wood',\n",
       " 'work']"
      ]
     },
     "execution_count": 19,
     "metadata": {},
     "output_type": "execute_result"
    }
   ],
   "source": [
    "cv.get_feature_names()"
   ]
  }
 ],
 "metadata": {
  "kernelspec": {
   "display_name": "Python 3.8.0 64-bit",
   "language": "python",
   "name": "python38064bit94409e1e4df94da1b5cc700cc0e6ab29"
  },
  "language_info": {
   "codemirror_mode": {
    "name": "ipython",
    "version": 3
   },
   "file_extension": ".py",
   "mimetype": "text/x-python",
   "name": "python",
   "nbconvert_exporter": "python",
   "pygments_lexer": "ipython3",
   "version": "3.8.0"
  }
 },
 "nbformat": 4,
 "nbformat_minor": 4
}
